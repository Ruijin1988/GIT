{
 "cells": [
  {
   "cell_type": "code",
   "execution_count": null,
   "metadata": {},
   "outputs": [],
   "source": [
    "import pandas as pd\n",
    "driver_id = pd.read_csv(\"/home/ruijin/Downloads/driver_ids.csv\")\n",
    "ride_ts = pd.read_csv(\"/home/ruijin/Downloads/ride_timestamps.csv\")\n",
    "ride_id = pd.read_csv(\"/home/ruijin/Downloads/ride_ids.csv\")"
   ]
  },
  {
   "cell_type": "code",
   "execution_count": null,
   "metadata": {
    "scrolled": false
   },
   "outputs": [],
   "source": [
    "ride_ts_dict={}\n",
    "for counter,elem in enumerate(ride_ts['ride_id']):\n",
    "    if elem not in ride_ts_dict:\n",
    "        ride_ts_dict[elem] = ride_ts['ride_picked_up_at'][counter]\n",
    "    else:\n",
    "        print('Error')\n",
    "\n",
    "driver_id_dict={}\n",
    "for counter,elem in enumerate(driver_id['driver_id']):\n",
    "    if elem not in driver_id_dict:\n",
    "        driver_id_dict[elem] = driver_id['driver_onboard_date'][counter]\n",
    "    else:\n",
    "        print('Error')"
   ]
  },
  {
   "cell_type": "code",
   "execution_count": null,
   "metadata": {},
   "outputs": [],
   "source": [
    "import time\n",
    "import datetime\n",
    "# find the last timestamp\n",
    "last_ts=0\n",
    "for counter,elem in enumerate(ride_ts['ride_picked_up_at']):\n",
    "    last_ts = max(last_ts,\n",
    "                  time.mktime(datetime.datetime.strptime(elem, \"%Y-%m-%d %H:%M:%S\").timetuple()))"
   ]
  },
  {
   "cell_type": "code",
   "execution_count": null,
   "metadata": {},
   "outputs": [],
   "source": [
    "driver_ride_id_dict={}\n",
    "unknown_ride_ide_count, unknown_driver_ide_count=0, 0\n",
    "for counter,elem in enumerate(ride_id['driver_id']):\n",
    "    if ride_id['ride_id'][counter] not in ride_ts_dict:\n",
    "#         print('Unkown ride_id (no mapping between driver_id and ride_id)')\n",
    "        unknown_ride_ide_count+=1\n",
    "        continue\n",
    "        \n",
    "    if elem not in driver_id_dict:\n",
    "        unknown_driver_ide_count+=1\n",
    "        continue\n",
    "    \n",
    "    onboard_time = time.mktime(datetime.datetime.strptime(driver_id_dict[elem], \"%Y-%m-%d %H:%M:%S\").timetuple())\n",
    "    thisride_time= time.mktime(datetime.datetime.strptime(ride_ts_dict[ride_id['ride_id'][counter]], \"%Y-%m-%d %H:%M:%S\").timetuple())\n",
    "    time_range = float(format((thisride_time-onboard_time)/3600.0/24.0,'.2f'))\n",
    "    vacum_to_date = float(format((last_ts-thisride_time)/3600.0/24.0,'.2f'))\n",
    "    first_time_range = float(format((thisride_time-onboard_time)/3600.0/24.0,'.2f'))\n",
    "    \n",
    "    if elem not in driver_ride_id_dict:\n",
    "        driver_ride_id_dict[elem]=[[ride_id['ride_id'][counter],ride_id['ride_distance'][counter],\n",
    "                            ride_id['ride_duration'][counter],ride_id['ride_prime_time'][counter],\n",
    "                            first_time_range,time_range,vacum_to_date]]\n",
    "    else:\n",
    "        driver_ride_id_dict[elem].append([ride_id['ride_id'][counter],ride_id['ride_distance'][counter],\n",
    "                                  ride_id['ride_duration'][counter],ride_id['ride_prime_time'][counter],\n",
    "                                  first_time_range,time_range,vacum_to_date]) \n"
   ]
  },
  {
   "cell_type": "code",
   "execution_count": null,
   "metadata": {},
   "outputs": [],
   "source": [
    "driver_freq_dict={} #drive freqent and last time\n",
    "for elem in driver_ride_id_dict.keys():\n",
    "    driver_freq_dict[elem]=[]\n",
    "    max_range,last_to_date,first_time_range = 0,0,float('inf')\n",
    "    ride_distance_sum, ride_duration_sum = 0, 0\n",
    "    for counter,items in enumerate(driver_ride_id_dict[elem]):\n",
    "        last_to_date = max(last_to_date,items[-1])\n",
    "        max_range = max(max_range,items[-2])\n",
    "        first_time_range = min(first_time_range,items[-3])\n",
    "        ride_duration_sum += items[-4]\n",
    "        ride_distance_sum += items[-5]\n",
    "        \n",
    "    driver_freq_dict[elem]=[counter,max_range,\n",
    "                            float(format(counter/max_range,'.2f')),last_to_date,\n",
    "                           first_time_range, float(format(ride_duration_sum/counter,'.2f')), \n",
    "                            float(format(ride_distance_sum/counter,'.2f'))]\n",
    "    \n",
    "# driver_freq_dict\n",
    "#[0:total number of rides, 1:total range of ride, 2:frequent of ride per day, 3:vacum time from last ride,\n",
    "# 4:vacum time from on board, 5:mean time per costumer, 6:mean distance per customer]"
   ]
  },
  {
   "cell_type": "code",
   "execution_count": null,
   "metadata": {},
   "outputs": [],
   "source": [
    "# driver_freq_dict\n",
    "ratio = 50\n",
    "crit_item_index = 3\n",
    "sum_churn_freq,sum_unchurn_freq = 0,0\n",
    "count_churn,count_unchurn = 0,0\n",
    "driver_churn_dict, driver_unchurn_dict = {}, {}\n",
    "for elem in driver_freq_dict.keys():\n",
    "    if driver_freq_dict[elem][crit_item_index]<ratio:\n",
    "        driver_churn_dict[elem]=driver_freq_dict[elem]\n",
    "        sum_churn_freq = driver_churn_dict[elem][crit_item_index]+sum_churn_freq\n",
    "        count_churn+=1\n",
    "    else:\n",
    "        driver_unchurn_dict[elem]=driver_freq_dict[elem]\n",
    "        sum_unchurn_freq = driver_unchurn_dict[elem][crit_item_index]+sum_unchurn_freq\n",
    "        count_unchurn+=1\n",
    "\n",
    "print(count_churn, count_unchurn)\n",
    "print(sum_churn_freq/count_churn, sum_unchurn_freq/count_unchurn)"
   ]
  },
  {
   "cell_type": "code",
   "execution_count": null,
   "metadata": {},
   "outputs": [],
   "source": [
    "# analysis\n",
    "for elem in driver_churn_dict.keys():\n",
    "    for \n",
    "    driver_ride_id_dict[elem]\n",
    "    break"
   ]
  }
 ],
 "metadata": {
  "kernelspec": {
   "display_name": "Python 3",
   "language": "python",
   "name": "python3"
  },
  "language_info": {
   "codemirror_mode": {
    "name": "ipython",
    "version": 3
   },
   "file_extension": ".py",
   "mimetype": "text/x-python",
   "name": "python",
   "nbconvert_exporter": "python",
   "pygments_lexer": "ipython3",
   "version": "3.6.8"
  }
 },
 "nbformat": 4,
 "nbformat_minor": 2
}
