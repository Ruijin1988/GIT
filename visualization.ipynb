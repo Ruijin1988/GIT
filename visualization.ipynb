{
 "cells": [
  {
   "cell_type": "code",
   "execution_count": 16,
   "metadata": {},
   "outputs": [],
   "source": [
    "import numpy as np\n",
    "import matplotlib.pyplot as plt\n",
    "import pandas as pd\n",
    "import glob\n",
    "import cv2\n",
    "import os\n",
    "from PIL import Image, ImageDraw\n",
    "%matplotlib inline"
   ]
  },
  {
   "cell_type": "code",
   "execution_count": 17,
   "metadata": {},
   "outputs": [],
   "source": [
    "drive_id = 'HT096_1505983158'\n",
    "lane_type= ['solid','dash']\n",
    "color_type = ['red','green']\n"
   ]
  },
  {
   "cell_type": "code",
   "execution_count": 18,
   "metadata": {
    "scrolled": false
   },
   "outputs": [],
   "source": [
    "import shutil\n",
    "save_dir = 'visualization/{}/'.format(drive_id)\n",
    "try:\n",
    "    shutil.rmtree(save_dir)\n",
    "except:\n",
    "    pass\n",
    "# if not os.path.exists(save_dir):\n",
    "os.makedirs(save_dir)\n",
    "os.makedirs(save_dir+'topdown/')\n",
    "for lane in lane_type:\n",
    "    os.makedirs(save_dir+'prediction_{}/'.format(lane))\n",
    "\n",
    "# copy paste the rgb topdown images to the result directory\n",
    "for filename in glob.glob('{}/topdown-img/RGB/*.png'.format(drive_id)):\n",
    "    shutil.copy(filename, save_dir+'topdown/')\n",
    "\n",
    "for lane, color in zip(lane_type,color_type):\n",
    "    file_list=glob.glob('{}/connection/{}/*'.format(drive_id,lane))    \n",
    "    for counter,file_list_elem in enumerate(file_list):\n",
    "        lines = glob.glob(file_list_elem+'/*.rowcol')\n",
    "        time_stamp = file_list_elem.split('/')[-1]\n",
    "\n",
    "        if len(lines)==0:\n",
    "            continue\n",
    "        # td_img = cv2.imread('{}/topdown-img/RGB/{}.png'.format(drive_id,time_stamp))\n",
    "        try:\n",
    "            im_td = Image.open(save_dir+'/topdown/{}.png'.format(time_stamp))\n",
    "            im_td=im_td.resize((1024,1024))\n",
    "            draw_td = ImageDraw.Draw(im_td)\n",
    "        except:\n",
    "            continue\n",
    "        for line in lines:\n",
    "            single_line = pd.read_csv(line,skiprows=0,delim_whitespace=True)\n",
    "            single_line_m=single_line.values\n",
    "\n",
    "            for index in range(1,len(single_line)):\n",
    "                draw_td.line(tuple(single_line_m[index-1][::-1]) + tuple(single_line_m[index][::-1]), fill=color, width=1)\n",
    "        im_td.save(save_dir+'topdown/{}.png'.format(time_stamp))\n",
    "\n",
    "    #     for lane in lane_type:\n",
    "        im_prd = Image.open('{}/prediction/results/{}/{}.png'.format(drive_id,lane,time_stamp)).convert('RGB')\n",
    "        draw_prd = ImageDraw.Draw(im_prd)\n",
    "\n",
    "        for line in lines:\n",
    "            single_line = pd.read_csv(line,skiprows=0,delim_whitespace=True)\n",
    "            single_line_m=single_line.values\n",
    "\n",
    "            for index in range(1,len(single_line)):\n",
    "                draw_prd.line(tuple(single_line_m[index-1][::-1]) + tuple(single_line_m[index][::-1]), fill=\"red\", width=1)\n",
    "\n",
    "        im_prd.save(save_dir+'prediction_{}/{}.png'.format(lane,time_stamp))"
   ]
  }
 ],
 "metadata": {
  "kernelspec": {
   "display_name": "Python 3",
   "language": "python",
   "name": "python3"
  },
  "language_info": {
   "codemirror_mode": {
    "name": "ipython",
    "version": 3
   },
   "file_extension": ".py",
   "mimetype": "text/x-python",
   "name": "python",
   "nbconvert_exporter": "python",
   "pygments_lexer": "ipython3",
   "version": "3.6.8"
  }
 },
 "nbformat": 4,
 "nbformat_minor": 2
}
