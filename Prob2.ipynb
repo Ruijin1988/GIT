{
 "cells": [
  {
   "cell_type": "code",
   "execution_count": 3,
   "metadata": {},
   "outputs": [
    {
     "name": "stdout",
     "output_type": "stream",
     "text": [
      "(891, 12)\n"
     ]
    }
   ],
   "source": [
    "import numpy as np\n",
    "import pandas as pd\n",
    "import matplotlib as mpl\n",
    "import matplotlib.pyplot as plt\n",
    "# get titanic & test csv files as a DataFrame\n",
    "train = pd.read_csv(\"train.csv\")\n",
    "print(train.shape)"
   ]
  },
  {
   "cell_type": "code",
   "execution_count": 5,
   "metadata": {
    "scrolled": true
   },
   "outputs": [
    {
     "data": {
      "text/plain": [
       "0             A/5 21171\n",
       "1              PC 17599\n",
       "2      STON/O2. 3101282\n",
       "3                113803\n",
       "4                373450\n",
       "5                330877\n",
       "6                 17463\n",
       "7                349909\n",
       "8                347742\n",
       "9                237736\n",
       "10              PP 9549\n",
       "11               113783\n",
       "12            A/5. 2151\n",
       "13               347082\n",
       "14               350406\n",
       "15               248706\n",
       "16               382652\n",
       "17               244373\n",
       "18               345763\n",
       "19                 2649\n",
       "20               239865\n",
       "21               248698\n",
       "22               330923\n",
       "23               113788\n",
       "24               349909\n",
       "25               347077\n",
       "26                 2631\n",
       "27                19950\n",
       "28               330959\n",
       "29               349216\n",
       "             ...       \n",
       "861               28134\n",
       "862               17466\n",
       "863            CA. 2343\n",
       "864              233866\n",
       "865              236852\n",
       "866       SC/PARIS 2149\n",
       "867            PC 17590\n",
       "868              345777\n",
       "869              347742\n",
       "870              349248\n",
       "871               11751\n",
       "872                 695\n",
       "873              345765\n",
       "874           P/PP 3381\n",
       "875                2667\n",
       "876                7534\n",
       "877              349212\n",
       "878              349217\n",
       "879               11767\n",
       "880              230433\n",
       "881              349257\n",
       "882                7552\n",
       "883    C.A./SOTON 34068\n",
       "884     SOTON/OQ 392076\n",
       "885              382652\n",
       "886              211536\n",
       "887              112053\n",
       "888          W./C. 6607\n",
       "889              111369\n",
       "890              370376\n",
       "Name: Ticket, Length: 891, dtype: object"
      ]
     },
     "execution_count": 5,
     "metadata": {},
     "output_type": "execute_result"
    }
   ],
   "source": [
    "# At this point we will drop the Cabin feature since it is missing a lot of the data\n",
    "train.pop('Cabin')\n",
    "train.pop('Name')\n",
    "train.pop('Ticket')"
   ]
  },
  {
   "cell_type": "code",
   "execution_count": 9,
   "metadata": {},
   "outputs": [],
   "source": [
    "# Filling missing Age values with mean\n",
    "train['Age'] = train['Age'].fillna(train['Age'].mean())\n",
    "train['Embarked'] = train['Embarked'].fillna(train['Embarked'].mode()[0])"
   ]
  },
  {
   "cell_type": "code",
   "execution_count": 10,
   "metadata": {},
   "outputs": [],
   "source": [
    "train['Pclass'] = train['Pclass'].apply(str)\n",
    "# Getting Dummies from all other categorical vars\n",
    "for col in train.dtypes[train.dtypes == 'object'].index:\n",
    "    for_dummy = train.pop(col)\n",
    "    train = pd.concat([train, pd.get_dummies(for_dummy, prefix=col)], axis=1)"
   ]
  },
  {
   "cell_type": "code",
   "execution_count": 12,
   "metadata": {},
   "outputs": [],
   "source": [
    "# Prepare data for training models\n",
    "labels = train.pop('Survived')"
   ]
  },
  {
   "cell_type": "code",
   "execution_count": 13,
   "metadata": {},
   "outputs": [],
   "source": [
    "from sklearn.model_selection import train_test_split\n",
    "x_train, x_test, y_train, y_test = train_test_split(train, labels, test_size=0.25)"
   ]
  },
  {
   "cell_type": "code",
   "execution_count": 15,
   "metadata": {},
   "outputs": [],
   "source": [
    "######################\n",
    "# SVM #\n",
    "######################"
   ]
  },
  {
   "cell_type": "code",
   "execution_count": 24,
   "metadata": {
    "scrolled": true
   },
   "outputs": [
    {
     "name": "stdout",
     "output_type": "stream",
     "text": [
      "Traing accuracy is 65.5688622754491%\n",
      "Testing accuracy is 57.847533632286996%\n",
      "F1 score:\n",
      "0.12962962962962962\n",
      "Traing accuracy is 77.39520958083833%\n",
      "Testing accuracy is 59.19282511210763%\n",
      "F1 score:\n",
      "0.0\n",
      "Traing accuracy is 70.65868263473054%\n",
      "Testing accuracy is 61.43497757847533%\n",
      "F1 score:\n",
      "0.5656565656565657\n",
      "Traing accuracy is 60.17964071856288%\n",
      "Testing accuracy is 46.63677130044843%\n",
      "F1 score:\n",
      "0.5703971119133574\n",
      "Traing accuracy is 53.1437125748503%\n",
      "Testing accuracy is 40.80717488789238%\n",
      "F1 score:\n",
      "0.5714285714285714\n",
      "Traing accuracy is 52.84431137724551%\n",
      "Testing accuracy is 39.91031390134529%\n",
      "F1 score:\n",
      "0.5705128205128205\n"
     ]
    },
    {
     "name": "stderr",
     "output_type": "stream",
     "text": [
      "C:\\Users\\cangr\\Anaconda3\\lib\\site-packages\\sklearn\\svm\\base.py:244: ConvergenceWarning: Solver terminated early (max_iter=100).  Consider pre-processing your data with StandardScaler or MinMaxScaler.\n",
      "  % self.max_iter, ConvergenceWarning)\n",
      "C:\\Users\\cangr\\Anaconda3\\lib\\site-packages\\sklearn\\svm\\base.py:244: ConvergenceWarning: Solver terminated early (max_iter=100).  Consider pre-processing your data with StandardScaler or MinMaxScaler.\n",
      "  % self.max_iter, ConvergenceWarning)\n",
      "C:\\Users\\cangr\\Anaconda3\\lib\\site-packages\\sklearn\\svm\\base.py:244: ConvergenceWarning: Solver terminated early (max_iter=100).  Consider pre-processing your data with StandardScaler or MinMaxScaler.\n",
      "  % self.max_iter, ConvergenceWarning)\n",
      "C:\\Users\\cangr\\Anaconda3\\lib\\site-packages\\sklearn\\svm\\base.py:244: ConvergenceWarning: Solver terminated early (max_iter=100).  Consider pre-processing your data with StandardScaler or MinMaxScaler.\n",
      "  % self.max_iter, ConvergenceWarning)\n",
      "C:\\Users\\cangr\\Anaconda3\\lib\\site-packages\\sklearn\\svm\\base.py:244: ConvergenceWarning: Solver terminated early (max_iter=100).  Consider pre-processing your data with StandardScaler or MinMaxScaler.\n",
      "  % self.max_iter, ConvergenceWarning)\n",
      "C:\\Users\\cangr\\Anaconda3\\lib\\site-packages\\sklearn\\svm\\base.py:244: ConvergenceWarning: Solver terminated early (max_iter=100).  Consider pre-processing your data with StandardScaler or MinMaxScaler.\n",
      "  % self.max_iter, ConvergenceWarning)\n"
     ]
    }
   ],
   "source": [
    "from sklearn.svm import SVC\n",
    "from sklearn.metrics import accuracy_score\n",
    "from sklearn.metrics import f1_score\n",
    "\n",
    "accuracy_train_store=[]\n",
    "accuracy_test_store=[]\n",
    "F1_score_store=[]\n",
    "Cs=np.linspace(0.04,0.4,10)\n",
    "gammas=[0.001,0.1,1,10,100,1000]\n",
    "for gamma in gammas:\n",
    "    clf = SVC(C=0.02,gamma = gamma,max_iter=100)\n",
    "    clf.fit(x_train, y_train)\n",
    "\n",
    "    y_pred = clf.predict(x_test)\n",
    "    y_pred_train = clf.predict(x_train)\n",
    "\n",
    "    print(\"Traing accuracy is {}%\".format(accuracy_score(y_train,y_pred_train)*100))\n",
    "    print(\"Testing accuracy is {}%\".format(accuracy_score(y_test,y_pred)*100))\n",
    "#     print('confusion matrix:')\n",
    "#     print(confusion_matrix(y_test,y_pred))\n",
    "    print('F1 score:')\n",
    "    print(f1_score(y_test,y_pred))\n",
    "\n",
    "    accuracy_train_store.append(accuracy_score(y_train,y_pred_train))\n",
    "    accuracy_test_store.append(accuracy_score(y_test,y_pred))\n",
    "    F1_score_store.append(f1_score(y_test,y_pred))\n"
   ]
  },
  {
   "cell_type": "code",
   "execution_count": null,
   "metadata": {},
   "outputs": [],
   "source": [
    "######################\n",
    "# KNN #\n",
    "######################"
   ]
  },
  {
   "cell_type": "code",
   "execution_count": null,
   "metadata": {},
   "outputs": [],
   "source": []
  },
  {
   "cell_type": "code",
   "execution_count": 26,
   "metadata": {
    "scrolled": true
   },
   "outputs": [
    {
     "name": "stdout",
     "output_type": "stream",
     "text": [
      "Traing accuracy is 79.64071856287424%\n",
      "Testing accuracy is 67.71300448430493%\n",
      "F1 score:\n",
      "0.4193548387096774\n",
      "Traing accuracy is 78.89221556886228%\n",
      "Testing accuracy is 63.67713004484305%\n",
      "F1 score:\n",
      "0.47058823529411764\n",
      "Traing accuracy is 72.15568862275448%\n",
      "Testing accuracy is 65.91928251121077%\n",
      "F1 score:\n",
      "0.3870967741935484\n",
      "Traing accuracy is 73.50299401197606%\n",
      "Testing accuracy is 66.81614349775785%\n",
      "F1 score:\n",
      "0.4861111111111111\n",
      "Traing accuracy is 71.8562874251497%\n",
      "Testing accuracy is 67.2645739910314%\n",
      "F1 score:\n",
      "0.416\n",
      "Traing accuracy is 72.60479041916167%\n",
      "Testing accuracy is 66.3677130044843%\n",
      "F1 score:\n",
      "0.4827586206896552\n",
      "Traing accuracy is 69.76047904191617%\n",
      "Testing accuracy is 67.2645739910314%\n",
      "F1 score:\n",
      "0.42519685039370075\n",
      "Traing accuracy is 71.40718562874252%\n",
      "Testing accuracy is 65.91928251121077%\n",
      "F1 score:\n",
      "0.4411764705882353\n",
      "Traing accuracy is 69.01197604790418%\n",
      "Testing accuracy is 66.81614349775785%\n",
      "F1 score:\n",
      "0.4126984126984127\n",
      "Traing accuracy is 67.66467065868264%\n",
      "Testing accuracy is 67.2645739910314%\n",
      "F1 score:\n",
      "0.40650406504065045\n",
      "Traing accuracy is 67.66467065868264%\n",
      "Testing accuracy is 66.81614349775785%\n",
      "F1 score:\n",
      "0.39344262295081966\n",
      "Traing accuracy is 67.51497005988024%\n",
      "Testing accuracy is 67.2645739910314%\n",
      "F1 score:\n",
      "0.37606837606837606\n",
      "Traing accuracy is 68.11377245508982%\n",
      "Testing accuracy is 67.2645739910314%\n",
      "F1 score:\n",
      "0.3652173913043478\n",
      "Traing accuracy is 67.96407185628742%\n",
      "Testing accuracy is 68.60986547085201%\n",
      "F1 score:\n",
      "0.4067796610169491\n",
      "Traing accuracy is 67.81437125748504%\n",
      "Testing accuracy is 69.05829596412556%\n",
      "F1 score:\n",
      "0.4102564102564103\n",
      "Traing accuracy is 67.81437125748504%\n",
      "Testing accuracy is 68.60986547085201%\n",
      "F1 score:\n",
      "0.3965517241379311\n",
      "Traing accuracy is 68.26347305389223%\n",
      "Testing accuracy is 68.16143497757847%\n",
      "F1 score:\n",
      "0.37168141592920356\n",
      "Traing accuracy is 68.11377245508982%\n",
      "Testing accuracy is 69.50672645739911%\n",
      "F1 score:\n",
      "0.4035087719298246\n",
      "Traing accuracy is 67.66467065868264%\n",
      "Testing accuracy is 68.60986547085201%\n",
      "F1 score:\n",
      "0.375\n",
      "Traing accuracy is 67.36526946107784%\n",
      "Testing accuracy is 68.60986547085201%\n",
      "F1 score:\n",
      "0.375\n",
      "Traing accuracy is 67.06586826347305%\n",
      "Testing accuracy is 68.16143497757847%\n",
      "F1 score:\n",
      "0.36036036036036034\n",
      "Traing accuracy is 67.36526946107784%\n",
      "Testing accuracy is 67.2645739910314%\n",
      "F1 score:\n",
      "0.3302752293577982\n"
     ]
    }
   ],
   "source": [
    "# fit knn model\n",
    "from sklearn.model_selection import train_test_split \n",
    "from sklearn.neighbors import KNeighborsClassifier \n",
    "from sklearn.metrics import accuracy_score\n",
    "\n",
    "n_neighbors=[2,3,4,5,6,7,8,9,10,12,14,16,18,20,22,24,26,28,30,32,34,36]\n",
    "accuracy_train_store=[]\n",
    "accuracy_test_store=[]\n",
    "F1_score_store=[]\n",
    "for n_neighbor in n_neighbors:\n",
    "    classifier = KNeighborsClassifier(n_neighbors=n_neighbor)  \n",
    "    classifier.fit(x_train, y_train)\n",
    "\n",
    "    y_pred = classifier.predict(x_test)  \n",
    "    y_pred_train = classifier.predict(x_train)\n",
    "\n",
    "    print(\"Traing accuracy is {}%\".format(accuracy_score(y_train,y_pred_train)*100))\n",
    "    print(\"Testing accuracy is {}%\".format(accuracy_score(y_test,y_pred)*100))\n",
    "#     print('confusion matrix:')\n",
    "#     print(confusion_matrix(y_test_onehot,y_pred_onehot))\n",
    "    print('F1 score:')\n",
    "    print(f1_score(y_test,y_pred))\n",
    "\n",
    "    accuracy_train_store.append(accuracy_score(y_train,y_pred_train))\n",
    "    accuracy_test_store.append(accuracy_score(y_test,y_pred))\n",
    "    F1_score_store.append(f1_score(y_test,y_pred))"
   ]
  },
  {
   "cell_type": "code",
   "execution_count": 27,
   "metadata": {},
   "outputs": [],
   "source": [
    "######################\n",
    "# Neural Network     #\n",
    "######################"
   ]
  },
  {
   "cell_type": "code",
   "execution_count": 31,
   "metadata": {},
   "outputs": [
    {
     "data": {
      "text/plain": [
       "(668, 13)"
      ]
     },
     "execution_count": 31,
     "metadata": {},
     "output_type": "execute_result"
    }
   ],
   "source": [
    "x_train.shape"
   ]
  },
  {
   "cell_type": "code",
   "execution_count": 37,
   "metadata": {},
   "outputs": [
    {
     "data": {
      "text/plain": [
       "0.3787425149700599"
      ]
     },
     "execution_count": 37,
     "metadata": {},
     "output_type": "execute_result"
    }
   ],
   "source": [
    "sum(y_train)/len(y_train)"
   ]
  },
  {
   "cell_type": "code",
   "execution_count": 47,
   "metadata": {
    "scrolled": true
   },
   "outputs": [
    {
     "name": "stderr",
     "output_type": "stream",
     "text": [
      "C:\\Users\\cangr\\Anaconda3\\lib\\site-packages\\sklearn\\neural_network\\multilayer_perceptron.py:562: ConvergenceWarning: Stochastic Optimizer: Maximum iterations (100) reached and the optimization hasn't converged yet.\n",
      "  % self.max_iter, ConvergenceWarning)\n"
     ]
    },
    {
     "name": "stdout",
     "output_type": "stream",
     "text": [
      "Traing accuracy is 69.01197604790418%\n",
      "Testing accuracy is 68.16143497757847%\n",
      "\n",
      "Traing accuracy is 37.87425149700599%\n",
      "Testing accuracy is 39.91031390134529%\n",
      "\n",
      "Traing accuracy is 62.125748502994014%\n",
      "Testing accuracy is 60.0896860986547%\n",
      "\n"
     ]
    },
    {
     "name": "stderr",
     "output_type": "stream",
     "text": [
      "C:\\Users\\cangr\\Anaconda3\\lib\\site-packages\\sklearn\\metrics\\classification.py:1143: UndefinedMetricWarning: F-score is ill-defined and being set to 0.0 due to no predicted samples.\n",
      "  'precision', 'predicted', average, warn_for)\n"
     ]
    },
    {
     "name": "stdout",
     "output_type": "stream",
     "text": [
      "Traing accuracy is 62.125748502994014%\n",
      "Testing accuracy is 60.0896860986547%\n",
      "\n",
      "Traing accuracy is 62.125748502994014%\n",
      "Testing accuracy is 60.0896860986547%\n",
      "\n",
      "Traing accuracy is 62.125748502994014%\n",
      "Testing accuracy is 60.0896860986547%\n",
      "\n"
     ]
    },
    {
     "name": "stderr",
     "output_type": "stream",
     "text": [
      "C:\\Users\\cangr\\Anaconda3\\lib\\site-packages\\sklearn\\metrics\\classification.py:1143: UndefinedMetricWarning: F-score is ill-defined and being set to 0.0 due to no predicted samples.\n",
      "  'precision', 'predicted', average, warn_for)\n",
      "C:\\Users\\cangr\\Anaconda3\\lib\\site-packages\\sklearn\\metrics\\classification.py:1143: UndefinedMetricWarning: F-score is ill-defined and being set to 0.0 due to no predicted samples.\n",
      "  'precision', 'predicted', average, warn_for)\n",
      "C:\\Users\\cangr\\Anaconda3\\lib\\site-packages\\sklearn\\metrics\\classification.py:1143: UndefinedMetricWarning: F-score is ill-defined and being set to 0.0 due to no predicted samples.\n",
      "  'precision', 'predicted', average, warn_for)\n"
     ]
    }
   ],
   "source": [
    "from sklearn.neural_network import MLPClassifier\n",
    "\n",
    "accuracy_train_store=[]\n",
    "accuracy_test_store=[]\n",
    "F1_score_store=[]\n",
    "learning_rates=[0.00001,0.0001,0.001,0.01,0.1,1]\n",
    "\n",
    "for learning_rate in learning_rates:\n",
    "    mlp = MLPClassifier(hidden_layer_sizes=(x_train.shape[1],100,100,2),max_iter=100,learning_rate_init=learning_rate,verbose=False)\n",
    "    mlp.fit(x_train,y_train)\n",
    "    y_pred = mlp.predict(x_test)\n",
    "    y_pred_train = mlp.predict(x_train)\n",
    "    from sklearn.metrics import classification_report,confusion_matrix\n",
    "    print(\"Traing accuracy is {}%\".format(accuracy_score(y_train,y_pred_train)*100))\n",
    "    print(\"Testing accuracy is {}%\".format(accuracy_score(y_test,y_pred)*100))\n",
    "    print()\n",
    "#     print(confusion_matrix(y_test_onehot,y_pred_onehot))\n",
    "    accuracy_train_store.append(accuracy_score(y_train,y_pred_train))\n",
    "    accuracy_test_store.append(accuracy_score(y_test,y_pred))\n",
    "    F1_score_store.append(f1_score(y_test,y_pred))"
   ]
  },
  {
   "cell_type": "code",
   "execution_count": 45,
   "metadata": {},
   "outputs": [
    {
     "data": {
      "text/plain": [
       "[0.0, 0.49635036496350365, 0.5705128205128205, 0.0, 0.0, 0.0]"
      ]
     },
     "execution_count": 45,
     "metadata": {},
     "output_type": "execute_result"
    }
   ],
   "source": [
    "F1_score_store"
   ]
  },
  {
   "cell_type": "code",
   "execution_count": null,
   "metadata": {},
   "outputs": [],
   "source": [
    "######################\n",
    "# Boosting     #\n",
    "######################"
   ]
  },
  {
   "cell_type": "code",
   "execution_count": null,
   "metadata": {},
   "outputs": [],
   "source": []
  },
  {
   "cell_type": "code",
   "execution_count": 53,
   "metadata": {
    "scrolled": true
   },
   "outputs": [
    {
     "name": "stdout",
     "output_type": "stream",
     "text": [
      "max_depths:  1\n",
      "Accuracy score (training): 0.825\n",
      "Accuracy score (validation): 0.789\n",
      "\n",
      "max_depths:  2\n",
      "Accuracy score (training): 0.879\n",
      "Accuracy score (validation): 0.821\n",
      "\n",
      "max_depths:  3\n",
      "Accuracy score (training): 0.922\n",
      "Accuracy score (validation): 0.812\n",
      "\n",
      "max_depths:  4\n",
      "Accuracy score (training): 0.945\n",
      "Accuracy score (validation): 0.807\n",
      "\n",
      "max_depths:  5\n",
      "Accuracy score (training): 0.970\n",
      "Accuracy score (validation): 0.776\n",
      "\n",
      "max_depths:  6\n",
      "Accuracy score (training): 0.982\n",
      "Accuracy score (validation): 0.776\n",
      "\n",
      "max_depths:  7\n",
      "Accuracy score (training): 0.981\n",
      "Accuracy score (validation): 0.753\n",
      "\n",
      "max_depths:  8\n",
      "Accuracy score (training): 0.981\n",
      "Accuracy score (validation): 0.749\n",
      "\n"
     ]
    }
   ],
   "source": [
    "from sklearn.ensemble import GradientBoostingClassifier\n",
    "max_depths = [1,2,3,4,5,6,7,8]\n",
    "# max_features=[3,4,5,6,7,8]\n",
    "\n",
    "accuracy_train_store=[]\n",
    "accuracy_test_store=[]\n",
    "# for max_feature in max_features:\n",
    "for max_depth in max_depths:\n",
    "    gb = GradientBoostingClassifier(n_estimators=100, max_features=None, max_depth = max_depth, random_state = 0,n_iter_no_change=100)\n",
    "    gb.fit(x_train, y_train)\n",
    "    print(\"max_depths: \", max_depth)\n",
    "#     print(\"max_features: \", max_feature)\n",
    "    print(\"Accuracy score (training): {0:.3f}\".format(gb.score(x_train, y_train)))\n",
    "    print(\"Accuracy score (validation): {0:.3f}\".format(gb.score(x_test, y_test)))\n",
    "    accuracy_train_store.append(gb.score(x_train, y_train))\n",
    "    accuracy_test_store.append(gb.score(x_test, y_test))\n",
    "    print()"
   ]
  }
 ],
 "metadata": {
  "kernelspec": {
   "display_name": "Python 3",
   "language": "python",
   "name": "python3"
  },
  "language_info": {
   "codemirror_mode": {
    "name": "ipython",
    "version": 3
   },
   "file_extension": ".py",
   "mimetype": "text/x-python",
   "name": "python",
   "nbconvert_exporter": "python",
   "pygments_lexer": "ipython3",
   "version": "3.7.1"
  }
 },
 "nbformat": 4,
 "nbformat_minor": 2
}
